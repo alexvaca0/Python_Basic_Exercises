{
 "cells": [
  {
   "cell_type": "markdown",
   "metadata": {},
   "source": [
    "<h1>Python básico - Ejercicios cortos (4 puntos)</h1>"
   ]
  },
  {
   "cell_type": "markdown",
   "metadata": {},
   "source": [
    "En este primer notebook, puedes encontrar el enunciado de cinco ejercicios cortos a los que deberás dar solución en una única celda de código. En los casos en los que se pida una función, se debe incluir un ejemplo de llamada a la función creada."
   ]
  },
  {
   "cell_type": "markdown",
   "metadata": {},
   "source": [
    "### 1. Escribe una comprensión de lista que a partir de una lista de números genere otra con los números de la original que verifican las tres condiciones siguientes: \n",
    "\n",
    "\n",
    "- Son positivos. \n",
    "- Son divisibles por 7. \n",
    "- No son múltiplos de 2.</h3>"
   ]
  },
  {
   "cell_type": "code",
   "execution_count": 1,
   "metadata": {},
   "outputs": [],
   "source": [
    "def funcion(lista):\n",
    "    cumplen = [element for element in lista if element > 0 and element%7 == 0 and element%2 != 0]\n",
    "    return cumplen"
   ]
  },
  {
   "cell_type": "code",
   "execution_count": 2,
   "metadata": {},
   "outputs": [
    {
     "data": {
      "text/plain": [
       "[7, 21, 7]"
      ]
     },
     "execution_count": 2,
     "metadata": {},
     "output_type": "execute_result"
    }
   ],
   "source": [
    "lista = [1, 20, 14, 7, 21, 33, 12, 7, 15]\n",
    "\n",
    "funcion(lista)"
   ]
  },
  {
   "cell_type": "markdown",
   "metadata": {},
   "source": [
    "### 2. Crea una función que reciba como _input_ una lista y devuelva una tupla (valor, cantidad de repeticiones), donde la cantidad de repeticiones es el número de veces consecutivas que aparece el valor.\n",
    "\n",
    "Por ejemplo, empaquetar ([1, 1, 1, 3, 5, 1, 1, 3, 3]) debe devolver [(1, 3) , (3, 1) , (5, 1), (1, 2), (3, 2)].\n",
    "\n",
    "**Observación:** La lista no tiene por qué ser sólo de números."
   ]
  },
  {
   "cell_type": "code",
   "execution_count": 3,
   "metadata": {},
   "outputs": [],
   "source": [
    "def funcion_2(lista):\n",
    "    \n",
    "    nueva_lista = []\n",
    "    \n",
    "    reps = 0 \n",
    "    \n",
    "    for i in range(len(lista)):\n",
    "      \n",
    "        if i == 0:\n",
    "            \n",
    "            next\n",
    "            \n",
    "        else:  \n",
    "            if i == len(lista) - 1: #es decir, si la posición i es la última posición:\n",
    "                if lista[i] == lista[i - 1]: #si es igual que la anterior:\n",
    "                    reps += 1 \n",
    "                    tupla = (lista[i], reps + 1) #le ponemos reps + 1 porque está repetido 2 veces, en i y en i-1 son el mismo valor. \n",
    "                    nueva_lista.append(tupla)\n",
    "\n",
    "                elif lista[i] != lista[i - 1]: #si no son iguales, solo se repite una vez (él mismo)\n",
    "                    tupla = (lista[i], 1)\n",
    "                    nueva_lista.append(tupla)\n",
    "                    reps = 0 #volvemos a poner reps en 0, ya que no se repite.\n",
    "                    \n",
    "            else: #para todos los demás casos (ni el primer elemento ni el último)\n",
    "            \n",
    "                if lista[i] == lista[i - 1]:\n",
    "                    reps += 1 #le sumamos repeticiones pero todavía no lo metemos en la lista, ya que podría repetirse más veces.\n",
    "\n",
    "                elif lista[i] != lista[i - 1]: #cuando nos encontramos con un elemento diferente del anterior:\n",
    "                    tupla = (lista[i - 1], reps + 1) #le añadimos el elemento anterior con sus repeticiones. \n",
    "                    nueva_lista.append(tupla)\n",
    "                    reps = 0 #volvemos a poner las repeticiones a 0.\n",
    "                    \n",
    "    return nueva_lista        "
   ]
  },
  {
   "cell_type": "code",
   "execution_count": 4,
   "metadata": {},
   "outputs": [
    {
     "data": {
      "text/plain": [
       "[(1, 3), (3, 1), (5, 1), (1, 2)]"
      ]
     },
     "execution_count": 4,
     "metadata": {},
     "output_type": "execute_result"
    }
   ],
   "source": [
    "lista = [1, 1, 1, 3, 5, 1, 1]\n",
    "\n",
    "funcion_2(lista) #aqui vemos que funciona con una lista de números."
   ]
  },
  {
   "cell_type": "code",
   "execution_count": 5,
   "metadata": {},
   "outputs": [],
   "source": [
    "lista2 = [\"a\", \"b\", \"c\", \"d\", \"e\", \"f\", \"g\", \"h\", \"h\", \"h\"]"
   ]
  },
  {
   "cell_type": "code",
   "execution_count": 6,
   "metadata": {},
   "outputs": [
    {
     "data": {
      "text/plain": [
       "[('a', 1),\n",
       " ('b', 1),\n",
       " ('c', 1),\n",
       " ('d', 1),\n",
       " ('e', 1),\n",
       " ('f', 1),\n",
       " ('g', 1),\n",
       " ('h', 3)]"
      ]
     },
     "execution_count": 6,
     "metadata": {},
     "output_type": "execute_result"
    }
   ],
   "source": [
    "funcion_2(lista2) #y aqui se puede apreciar que también funciona con una lista de caracteres."
   ]
  },
  {
   "cell_type": "markdown",
   "metadata": {},
   "source": [
    "### 3.  Crea una función que tome como parámetros el nombre de una ciudad y un diccionario con nombres de personas y la ciudad en la que vive y devuelva los nombres de personas que viven en esa ciudad, en orden alfabético.   \n",
    "\n",
    "Ejemplo de diccionario: {Antonio: Valladolid, Ana: Soria, Juan: Alicante, Rafael: Córdoba, Arturo: Madrid, Carmen: Granada,Delia: Alicante, Miguel: Soria, Marta : Alicante}"
   ]
  },
  {
   "cell_type": "code",
   "execution_count": 7,
   "metadata": {},
   "outputs": [],
   "source": [
    "def funcion3(nombre_ciudad, diccionario_personas):\n",
    "    \n",
    "    nombres = []\n",
    "    \n",
    "    for key in diccionario_personas.keys():\n",
    "        \n",
    "        ciudad = diccionario_personas[key] #la ciudad en la que vive cada persona del diccionario sobre el que vamos iterando en función de las llaves.\n",
    "        \n",
    "        if ciudad == nombre_ciudad:\n",
    "            \n",
    "            nombres.append(str(key))\n",
    "            print(nombres) #en cada iteración en que se cumpla la condición, le pedimos que nos devuelva la lista completa que ha ido creando y el nuevo elemento que ha añadido. \n",
    "            print(key)\n",
    "        \n",
    "        else:\n",
    "            next\n",
    "            \n",
    "    nombres = sorted(nombres) #finalmente los ordenamos alfabéticamente. \n",
    "    return nombres "
   ]
  },
  {
   "cell_type": "code",
   "execution_count": 8,
   "metadata": {},
   "outputs": [],
   "source": [
    "dic = {\"Andrea\": \"Valencia\", \"Borges\": \"Valencia\", \"Carlos\": \"Madrid\", \"Alicia\": \"Valencia\"}"
   ]
  },
  {
   "cell_type": "code",
   "execution_count": 9,
   "metadata": {},
   "outputs": [
    {
     "name": "stdout",
     "output_type": "stream",
     "text": [
      "['Andrea']\n",
      "Andrea\n",
      "['Andrea', 'Borges']\n",
      "Borges\n",
      "['Andrea', 'Borges', 'Alicia']\n",
      "Alicia\n"
     ]
    },
    {
     "data": {
      "text/plain": [
       "['Alicia', 'Andrea', 'Borges']"
      ]
     },
     "execution_count": 9,
     "metadata": {},
     "output_type": "execute_result"
    }
   ],
   "source": [
    "nombres = funcion3(\"Valencia\", dic)\n",
    "nombres"
   ]
  },
  {
   "cell_type": "markdown",
   "metadata": {},
   "source": [
    "### 4. Escribe una función que reciba un nombre de fichero, lo abra y devuelva un diccionario con las palabras (asume que están separadas siempre por espacios) del fichero y sus frecuencias. Se deberá controlar la posibilidad de que el fichero no exista."
   ]
  },
  {
   "cell_type": "code",
   "execution_count": 10,
   "metadata": {},
   "outputs": [],
   "source": [
    "import numpy as np"
   ]
  },
  {
   "cell_type": "code",
   "execution_count": 11,
   "metadata": {},
   "outputs": [],
   "source": [
    "def funcion4(fichero):\n",
    "    \n",
    "    import os\n",
    "    \n",
    "    from collections import Counter #importamos estos dos módulos dentro de la función porque solo van a ser usados si se utiliza esta función. \n",
    "    \n",
    "    if (fichero in os.listdir()): #si el fichero que le hemos pasado existe en el directorio: \n",
    "\n",
    "        print(\"El fichero existe; Estoy trabajando\")\n",
    "        \n",
    "        with open(fichero, \"r\") as f:\n",
    "            \n",
    "            cnt = Counter()\n",
    "            \n",
    "            contenido = f.read().split(' ')\n",
    "\n",
    "            for palabra in contenido:\n",
    "\n",
    "                cnt[palabra] += 1 #con esto nos creamos una estructura similar a un diccionario (aunque luego habrá que transformarla a dict), en el que las palabras, asumiendo que están separadas por espacios, serán las keys, y los valores serán el número de repeticiones que aparece cada palabra en el fichero. \n",
    "            \n",
    "            f.close()  #cuando acabe de cargarse el contador cnt (es decir, cuando se haya leído todo el contenido), se cierra el fichero. \n",
    "            \n",
    "            return dict(cnt)\n",
    "         \n",
    "    else:\n",
    "        print(\"El nombre del fichero no se encuentra en el directorio \\n Prueba con otro fichero o comprueba tu directorio\")\n",
    "        "
   ]
  },
  {
   "cell_type": "code",
   "execution_count": 12,
   "metadata": {},
   "outputs": [
    {
     "name": "stdout",
     "output_type": "stream",
     "text": [
      "El fichero existe; Estoy trabajando\n"
     ]
    }
   ],
   "source": [
    "fichero = \"texto_prueba.txt\"\n",
    "\n",
    "dic = funcion4(fichero)\n",
    "\n"
   ]
  },
  {
   "cell_type": "code",
   "execution_count": 13,
   "metadata": {},
   "outputs": [
    {
     "data": {
      "text/plain": [
       "{'Ya': 1, 'quisiera': 1, 'el': 2, 'gato': 1, 'lamer': 1, 'plato.': 1}"
      ]
     },
     "execution_count": 13,
     "metadata": {},
     "output_type": "execute_result"
    }
   ],
   "source": [
    "dic"
   ]
  },
  {
   "cell_type": "markdown",
   "metadata": {},
   "source": [
    "### 5. Escribe una función que reciba como parámetro un Sudoku completo (en forma de matriz), y devuelva si está bien solucionado o no.\n",
    "\n",
    "A lo largo de la función, debes ir comprobando los distintos requisitos que debe cumplir la solución de un Sudoku, pero además, también debes hacer comprobaciones más básicas, como que los números de cada celda están en el rango correcto o que la dimensión de la matriz es la adecuada para un Sudoku. \n",
    "\n",
    "La función debe devolver un mensaje diciendo que la solución es correcta o, en caso contrario, el motivo por el que la solución es incorrecta. \n",
    "\n",
    "Puedes visitar esta página para repasar las reglas del Sudoku: http://www.sudokumania.com.ar/metodos/reglas-del-sudoku \n"
   ]
  },
  {
   "cell_type": "code",
   "execution_count": 14,
   "metadata": {},
   "outputs": [],
   "source": [
    "import numpy as np"
   ]
  },
  {
   "cell_type": "code",
   "execution_count": 15,
   "metadata": {},
   "outputs": [
    {
     "data": {
      "text/plain": [
       "81"
      ]
     },
     "execution_count": 15,
     "metadata": {},
     "output_type": "execute_result"
    }
   ],
   "source": [
    "matriz = np.array([[1,2,3, 4, 5, 6, 7, 8, 9], [3, 2, 1, 4, 5, 9, 8, 7, 6], \n",
    "                  [9, 8, 7, 6, 4, 5, 1, 2, 3], [6, 8, 7, 9, 1, 2, 4, 5, 3], \n",
    "                  [1,2,3, 4, 5, 6, 7, 8, 9], [6, 8, 7, 9, 1, 2, 4, 5, 3],\n",
    "                  [9, 8, 7, 6, 4, 5, 1, 2, 3], [4,5,6,1,2,7,8,9, 3], \n",
    "                  [4, 2, 1, 6, 7, 9, 3, 8, 5]])\n",
    "\n",
    "np.sum(matriz <= 9) #pequeña comprobación de que todos los elementos son menores o iguales que 9. "
   ]
  },
  {
   "cell_type": "code",
   "execution_count": 16,
   "metadata": {},
   "outputs": [
    {
     "data": {
      "text/plain": [
       "array([[1, 2, 3, 4, 5, 6, 7, 8, 9],\n",
       "       [3, 2, 1, 4, 5, 9, 8, 7, 6],\n",
       "       [9, 8, 7, 6, 4, 5, 1, 2, 3],\n",
       "       [6, 8, 7, 9, 1, 2, 4, 5, 3],\n",
       "       [1, 2, 3, 4, 5, 6, 7, 8, 9],\n",
       "       [6, 8, 7, 9, 1, 2, 4, 5, 3],\n",
       "       [9, 8, 7, 6, 4, 5, 1, 2, 3],\n",
       "       [4, 5, 6, 1, 2, 7, 8, 9, 3],\n",
       "       [4, 2, 1, 6, 7, 9, 3, 8, 5]])"
      ]
     },
     "execution_count": 16,
     "metadata": {},
     "output_type": "execute_result"
    }
   ],
   "source": [
    "matriz"
   ]
  },
  {
   "cell_type": "code",
   "execution_count": 17,
   "metadata": {},
   "outputs": [
    {
     "data": {
      "text/plain": [
       "array([[1, 3, 9, 6, 1, 6, 9, 4, 4],\n",
       "       [2, 2, 8, 8, 2, 8, 8, 5, 2],\n",
       "       [3, 1, 7, 7, 3, 7, 7, 6, 1],\n",
       "       [4, 4, 6, 9, 4, 9, 6, 1, 6],\n",
       "       [5, 5, 4, 1, 5, 1, 4, 2, 7],\n",
       "       [6, 9, 5, 2, 6, 2, 5, 7, 9],\n",
       "       [7, 8, 1, 4, 7, 4, 1, 8, 3],\n",
       "       [8, 7, 2, 5, 8, 5, 2, 9, 8],\n",
       "       [9, 6, 3, 3, 9, 3, 3, 3, 5]])"
      ]
     },
     "execution_count": 17,
     "metadata": {},
     "output_type": "execute_result"
    }
   ],
   "source": [
    "matriz.T"
   ]
  },
  {
   "cell_type": "code",
   "execution_count": 18,
   "metadata": {},
   "outputs": [],
   "source": [
    "def comprobar_sudoku(matriz):\n",
    "    \n",
    "    if ((matriz > 0) & (matriz <= 9)).all(): #asi comprobamos que todos los elementos estan entre 1 y 9. Primera condicion.\n",
    "        \n",
    "        for i in range(9): #con este for loop hacemos la comprobación de las filas. \n",
    "            \n",
    "            fila = matriz[i]\n",
    "            \n",
    "            unico = np.unique(fila)\n",
    "            \n",
    "            if len(fila) == len(unico): #si la longitud de los elementos únicos es igual a la longitud de la fila, es que todos están entre 1 y 9 (incluidos, primera condición de arriba), y además no se repiten elementos en la fila i.\n",
    "                \n",
    "                print(\"en la fila \" + str(i) + \" no hay ningún elemento repetido\")\n",
    "                \n",
    "            else: \n",
    "                \n",
    "                print(\"en la fila \" + str(i) + \" HAY ELEMENTOS REPETIDOS; MAL HECHO\")\n",
    "        \n",
    "        matrizT = matriz.T #transponemos la matriz para tener las columnas como filas, y realizamos la misma comprobación. \n",
    "        \n",
    "        for j in range(9):\n",
    "            \n",
    "            col = matrizT[j]\n",
    "            \n",
    "            unico = np.unique(col)\n",
    "            \n",
    "            if len(col) == len(unico):\n",
    "                \n",
    "                print(\"en la columna  \" + str(j) + \" no hay ningún elemento repetido\")\n",
    "                \n",
    "            else: \n",
    "                \n",
    "                print(\"en la columna  \" + str(j) + \" HAY ELEMENTOS REPETIDOS; MAL HECHO\")\n",
    "            \n",
    "        \n",
    "        splitted = np.hsplit(matriz, 3) #realizamos una partición horizontal sobre la matriz original en 3 partes;\n",
    "        \n",
    "        regiones_completas = 0\n",
    "        \n",
    "        for x in splitted: #para cada una de esas partes que hemos dividido arriba:\n",
    "            \n",
    "            vsplitted = np.vsplit(x, 3) #volvemos a dividirlas en 3 partes, esta vez de forma vertical; quedándonos así con las regiones:\n",
    "            \n",
    "            for region in vsplitted: #sobre las que vamos iterando.\n",
    "                \n",
    "                if len(np.unique(region)) == 9: #si en cada región hay 9 elementos únicos, y habiéndose cumplido las condiciones de arriba, significa que el sudoku está bien hecho (si esto se cumple para todas las regiones (9), claro). \n",
    "                    \n",
    "                    regiones_completas += 1 #vamos sumando las regiones completas; si llegan a 9 el sudoku estará bien hecho;\n",
    "                    #sino, la función nos mandará un mensaje con la región en la que no se cumplen las normas. \n",
    "            \n",
    "                else:\n",
    "                    \n",
    "                    print(\"La región \" + str(region) + \" NO CUMPLE LAS NORMAS\")\n",
    "                    \n",
    "        if regiones_completas == 9:\n",
    "            \n",
    "            print(\"tu sudoku está bien entero, bien hecho!\")\n",
    "      \n",
    "    else:\n",
    "        \n",
    "        print(\"El sudoku no está bien resuelto, los numeros no estan en el rango adecuado\")"
   ]
  },
  {
   "cell_type": "code",
   "execution_count": 19,
   "metadata": {},
   "outputs": [
    {
     "name": "stdout",
     "output_type": "stream",
     "text": [
      "en la fila 0 no hay ningún elemento repetido\n",
      "en la fila 1 no hay ningún elemento repetido\n",
      "en la fila 2 no hay ningún elemento repetido\n",
      "en la fila 3 no hay ningún elemento repetido\n",
      "en la fila 4 no hay ningún elemento repetido\n",
      "en la fila 5 no hay ningún elemento repetido\n",
      "en la fila 6 no hay ningún elemento repetido\n",
      "en la fila 7 no hay ningún elemento repetido\n",
      "en la fila 8 no hay ningún elemento repetido\n",
      "en la columna  0 HAY ELEMENTOS REPETIDOS; MAL HECHO\n",
      "en la columna  1 HAY ELEMENTOS REPETIDOS; MAL HECHO\n",
      "en la columna  2 HAY ELEMENTOS REPETIDOS; MAL HECHO\n",
      "en la columna  3 HAY ELEMENTOS REPETIDOS; MAL HECHO\n",
      "en la columna  4 HAY ELEMENTOS REPETIDOS; MAL HECHO\n",
      "en la columna  5 HAY ELEMENTOS REPETIDOS; MAL HECHO\n",
      "en la columna  6 HAY ELEMENTOS REPETIDOS; MAL HECHO\n",
      "en la columna  7 HAY ELEMENTOS REPETIDOS; MAL HECHO\n",
      "en la columna  8 HAY ELEMENTOS REPETIDOS; MAL HECHO\n",
      "La región [[1 2 3]\n",
      " [3 2 1]\n",
      " [9 8 7]] NO CUMPLE LAS NORMAS\n",
      "La región [[6 8 7]\n",
      " [1 2 3]\n",
      " [6 8 7]] NO CUMPLE LAS NORMAS\n",
      "La región [[9 8 7]\n",
      " [4 5 6]\n",
      " [4 2 1]] NO CUMPLE LAS NORMAS\n",
      "La región [[4 5 6]\n",
      " [4 5 9]\n",
      " [6 4 5]] NO CUMPLE LAS NORMAS\n",
      "La región [[9 1 2]\n",
      " [4 5 6]\n",
      " [9 1 2]] NO CUMPLE LAS NORMAS\n",
      "La región [[6 4 5]\n",
      " [1 2 7]\n",
      " [6 7 9]] NO CUMPLE LAS NORMAS\n",
      "La región [[7 8 9]\n",
      " [8 7 6]\n",
      " [1 2 3]] NO CUMPLE LAS NORMAS\n",
      "La región [[4 5 3]\n",
      " [7 8 9]\n",
      " [4 5 3]] NO CUMPLE LAS NORMAS\n",
      "La región [[1 2 3]\n",
      " [8 9 3]\n",
      " [3 8 5]] NO CUMPLE LAS NORMAS\n"
     ]
    }
   ],
   "source": [
    "comprobar_sudoku(matriz) #vemos que en esta matriz ni las columnas ni las regiones cumplen las normas. "
   ]
  },
  {
   "cell_type": "code",
   "execution_count": 20,
   "metadata": {},
   "outputs": [],
   "source": [
    "sudoku = np.array([[1,5,4,6,9,3,2,8,7],[6,3,2,5,7,8,9,4,1],[8,9,7,1,2,4,6,5,3],[5,1,9,8,4,7,3,2,6],[2,4,3,9,6,5,7,1,8], [7,6,8,3,1,2,4,9,5],[4,8,6,7,5,9,1,3,2],[9,7,5,2,3,1,8,6,4],[3,2,1,4,8,6,5,7,9]])"
   ]
  },
  {
   "cell_type": "code",
   "execution_count": 21,
   "metadata": {},
   "outputs": [
    {
     "name": "stdout",
     "output_type": "stream",
     "text": [
      "en la fila 0 no hay ningún elemento repetido\n",
      "en la fila 1 no hay ningún elemento repetido\n",
      "en la fila 2 no hay ningún elemento repetido\n",
      "en la fila 3 no hay ningún elemento repetido\n",
      "en la fila 4 no hay ningún elemento repetido\n",
      "en la fila 5 no hay ningún elemento repetido\n",
      "en la fila 6 no hay ningún elemento repetido\n",
      "en la fila 7 no hay ningún elemento repetido\n",
      "en la fila 8 no hay ningún elemento repetido\n",
      "en la columna  0 no hay ningún elemento repetido\n",
      "en la columna  1 no hay ningún elemento repetido\n",
      "en la columna  2 no hay ningún elemento repetido\n",
      "en la columna  3 no hay ningún elemento repetido\n",
      "en la columna  4 no hay ningún elemento repetido\n",
      "en la columna  5 no hay ningún elemento repetido\n",
      "en la columna  6 no hay ningún elemento repetido\n",
      "en la columna  7 no hay ningún elemento repetido\n",
      "en la columna  8 no hay ningún elemento repetido\n",
      "tu sudoku está bien entero, bien hecho!\n"
     ]
    }
   ],
   "source": [
    "comprobar_sudoku(sudoku) #este, como vemos, sí que está bien hecho :) "
   ]
  }
 ],
 "metadata": {
  "kernelspec": {
   "display_name": "Python 3",
   "language": "python",
   "name": "python3"
  },
  "language_info": {
   "codemirror_mode": {
    "name": "ipython",
    "version": 3
   },
   "file_extension": ".py",
   "mimetype": "text/x-python",
   "name": "python",
   "nbconvert_exporter": "python",
   "pygments_lexer": "ipython3",
   "version": "3.6.5"
  }
 },
 "nbformat": 4,
 "nbformat_minor": 1
}
